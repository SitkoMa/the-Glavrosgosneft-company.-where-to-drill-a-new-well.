{
 "cells": [
  {
   "cell_type": "markdown",
   "metadata": {},
   "source": [
    "# Выбор локации для скважины"
   ]
  },
  {
   "cell_type": "markdown",
   "metadata": {},
   "source": [
    "Добывающая компании «ГлавРосГосНефть». \n",
    "\n",
    "Цель проекта: где бурить новую скважину.\n",
    "\n",
    "Предоставлены пробы нефти в трёх регионах: в каждом 10 000 месторождений, где измерили качество нефти и объём её запасов. \n",
    "\n",
    "Задача: Построить модель машинного обучения, которая поможет определить регион, где добыча принесёт наибольшую прибыль. Проанализировать возможную прибыль и риски техникой *Bootstrap.*\n",
    "\n",
    "Шаги для выбора локации:\n",
    "\n",
    "- В избранном регионе ищут месторождения, для каждого определяют значения признаков;\n",
    "- Строят модель и оценивают объём запасов;\n",
    "- Выбирают месторождения с самым высокими оценками значений. Количество месторождений зависит от бюджета компании и стоимости разработки одной скважины;\n",
    "- Прибыль равна суммарной прибыли отобранных месторождений."
   ]
  },
  {
   "cell_type": "markdown",
   "metadata": {},
   "source": [
    "# Описание данных"
   ]
  },
  {
   "cell_type": "markdown",
   "metadata": {},
   "source": [
    "Данные геологоразведки трёх регионов находятся в файлах: \n",
    "* `/datasets/geo_data_0.csv.`\n",
    "* `/datasets/geo_data_1.csv.` \n",
    "* `/datasets/geo_data_2.csv.`\n",
    "* id — уникальный идентификатор скважины;\n",
    "* f0, f1, f2 — три признака точек (неважно, что они означают, но сами признаки значимы);\n",
    "product — объём запасов в скважине (тыс. баррелей).\n",
    "\n",
    "**Условия задачи:**\n",
    "* Для обучения модели подходит только **линейная регрессия** (остальные — недостаточно предсказуемые).\n",
    "* При разведке региона исследуют 500 точек, из которых с помощью машинного обучения выбирают **200 лучших для разработки.**\n",
    "* Бюджет на разработку скважин в регионе — **10 млрд рублей.**\n",
    "* При нынешних ценах один баррель сырья приносит **450 рублей дохода.** Доход с каждой единицы продукта составляет 450 тыс. рублей, поскольку объём указан в тысячах баррелей.\n",
    "* После оценки рисков нужно оставить лишь те регионы, в которых **вероятность убытков меньше 2.5%.** Среди них выбирают регион с наибольшей средней прибылью."
   ]
  },
  {
   "cell_type": "markdown",
   "metadata": {},
   "source": [
    "## Загрузка и подготовка данных"
   ]
  },
  {
   "cell_type": "markdown",
   "metadata": {},
   "source": [
    "### Импортируем библиотеки и сохраняем данные "
   ]
  },
  {
   "cell_type": "markdown",
   "metadata": {},
   "source": [
    "1. Импортируем библиотеки pandas, numpy, matplotlib, seaborn, stats, sklearn и другие. \n",
    "\n",
    "2. Для решения первой задачи cчитаем данные из csv-файлов и сохраним в переменные `geo_data_0, geo_data_1, geo_data_2` соответственно. Путь к файлам: `/datasets/geo_data_0.csv`, `/datasets/geo_data_2.csv`. \n",
    "\n",
    "4. В качестве разделителя в файлах используется знак `запятая`. В качестве разделителя десятичной части укажем `точку` методом `decimal='.'"
   ]
  },
  {
   "cell_type": "code",
   "execution_count": 1,
   "metadata": {},
   "outputs": [],
   "source": [
    "# Импорт из стандартной библиотеки\n",
    "import os\n",
    "import warnings\n",
    "\n",
    "# Стандартные библиотеки для научных вычислений\n",
    "import numpy as np\n",
    "import pandas as pd\n",
    "from scipy.stats import ttest_ind\n",
    "\n",
    "# Визуализация данных\n",
    "import matplotlib.pyplot as plt\n",
    "import seaborn as sns\n",
    "import plotly.express as px\n",
    "import itertools\n",
    "\n",
    "# Расчет статистик\n",
    "from sklearn.impute import SimpleImputer, KNNImputer\n",
    "from sklearn.model_selection import (\n",
    "    StratifiedKFold,\n",
    "    RandomizedSearchCV, \n",
    "    GridSearchCV,\n",
    "    KFold\n",
    ")\n",
    "from sklearn.pipeline import Pipeline, make_pipeline\n",
    "from sklearn.compose import ColumnTransformer\n",
    "from sklearn.preprocessing import (\n",
    "    OneHotEncoder,\n",
    "    LabelEncoder,\n",
    "    OrdinalEncoder, \n",
    "    StandardScaler, \n",
    "    MinMaxScaler,\n",
    "    RobustScaler,\n",
    ")\n",
    "\n",
    "# Модели машинного обучения\n",
    "from sklearn.dummy import DummyClassifier, DummyRegressor\n",
    "from sklearn.linear_model import LinearRegression\n",
    "from sklearn.metrics import mean_squared_error\n",
    "from sklearn.model_selection import train_test_split\n",
    "\n",
    "# Константы\n",
    "line_1 = '-'*125\n",
    "line_2 = '_'*125\n",
    "RANDOM_STATE = 42\n",
    "TEST_SIZE = 0.25\n",
    "NSAMPLES = 3"
   ]
  },
  {
   "cell_type": "code",
   "execution_count": 5,
   "metadata": {},
   "outputs": [],
   "source": [
    "#Функция для считывания данных и сохранения в Датафреймы\n",
    "def load_data(file_path, remote_url, sep=';', decimal=','):\n",
    "    try:\n",
    "        if os.path.exists(file_path):\n",
    "            print(f'Загрузка данных из локального файла: {file_path}')\n",
    "            return pd.read_csv(file_path, sep=sep, decimal=decimal)\n",
    "        else:\n",
    "            print(f'Загрузка данных из удаленного источника: {remote_url}')\n",
    "            return pd.read_csv(remote_url, sep=sep, decimal=decimal)\n",
    "    except Exception as e:\n",
    "        # Если возникла ошибка, выводим сообщение об ошибке\n",
    "        print('Загрузка произошла с ошибкой')\n",
    "        error_message = str(e)"
   ]
  },
  {
   "cell_type": "code",
   "execution_count": 6,
   "metadata": {},
   "outputs": [
    {
     "name": "stdout",
     "output_type": "stream",
     "text": [
      "Загрузка данных из локального файла: geo_data_0.csv\n",
      "Загрузка данных из локального файла: geo_data_1.csv\n",
      "Загрузка данных из локального файла: geo_data_2.csv\n"
     ]
    }
   ],
   "source": [
    "data_paths = [\n",
    "    ['geo_data_0.csv','https://code.s3.yandex.net/datasets/geo_data_0.csv'],\n",
    "    ['geo_data_1.csv', 'https://code.s3.yandex.net/datasets/geo_data_1.csv'],\n",
    "    ['geo_data_2.csv','https://code.s3.yandex.net/datasets/geo_data_2.csv'],\n",
    "]\n",
    "\n",
    "# Используем список для хранения загруженных датафреймов\n",
    "df = []\n",
    "\n",
    "# Проходим по каждой паре путей в списке\n",
    "for file_path, remote_url in data_paths:\n",
    "    # Для последнего элемента в списке используем значения по умолчанию\n",
    "    df.append(load_data(file_path, remote_url, sep=',', decimal='.'))"
   ]
  },
  {
   "cell_type": "code",
   "execution_count": 7,
   "metadata": {},
   "outputs": [],
   "source": [
    "# Возможность обращаться к датафреймам по именам, используйем словарь вместо списка\n",
    "geo_data_0 = df[0]\n",
    "geo_data_1 = df[1]\n",
    "geo_data_2 = df[2]"
   ]
  },
  {
   "cell_type": "markdown",
   "metadata": {},
   "source": [
    "### Проверяем данные на пропуски, дубликаты, аномалии"
   ]
  },
  {
   "cell_type": "markdown",
   "metadata": {},
   "source": [
    "1. Просматриваем общую информацию по данным, выводим замечания. Просматриваем методом `describe()`, отмечаем аномалии.\n",
    "\n",
    "2. Проверяем на пропуски. Заполняем пропуски или нет.\n",
    "\n",
    "4. Находим дубликаты в датафрейме. Удаляем дубликаты."
   ]
  },
  {
   "cell_type": "markdown",
   "metadata": {},
   "source": [
    "#### Проверка общей информации по регионам"
   ]
  },
  {
   "cell_type": "code",
   "execution_count": 8,
   "metadata": {},
   "outputs": [
    {
     "name": "stdout",
     "output_type": "stream",
     "text": [
      "<class 'pandas.core.frame.DataFrame'>\n",
      "RangeIndex: 100000 entries, 0 to 99999\n",
      "Data columns (total 5 columns):\n",
      " #   Column   Non-Null Count   Dtype  \n",
      "---  ------   --------------   -----  \n",
      " 0   id       100000 non-null  object \n",
      " 1   f0       100000 non-null  float64\n",
      " 2   f1       100000 non-null  float64\n",
      " 3   f2       100000 non-null  float64\n",
      " 4   product  100000 non-null  float64\n",
      "dtypes: float64(4), object(1)\n",
      "memory usage: 3.8+ MB\n"
     ]
    },
    {
     "data": {
      "text/html": [
       "<div>\n",
       "<style scoped>\n",
       "    .dataframe tbody tr th:only-of-type {\n",
       "        vertical-align: middle;\n",
       "    }\n",
       "\n",
       "    .dataframe tbody tr th {\n",
       "        vertical-align: top;\n",
       "    }\n",
       "\n",
       "    .dataframe thead th {\n",
       "        text-align: right;\n",
       "    }\n",
       "</style>\n",
       "<table border=\"1\" class=\"dataframe\">\n",
       "  <thead>\n",
       "    <tr style=\"text-align: right;\">\n",
       "      <th></th>\n",
       "      <th>id</th>\n",
       "      <th>f0</th>\n",
       "      <th>f1</th>\n",
       "      <th>f2</th>\n",
       "      <th>product</th>\n",
       "    </tr>\n",
       "  </thead>\n",
       "  <tbody>\n",
       "    <tr>\n",
       "      <th>0</th>\n",
       "      <td>txEyH</td>\n",
       "      <td>0.705745</td>\n",
       "      <td>-0.497823</td>\n",
       "      <td>1.221170</td>\n",
       "      <td>105.280062</td>\n",
       "    </tr>\n",
       "    <tr>\n",
       "      <th>1</th>\n",
       "      <td>2acmU</td>\n",
       "      <td>1.334711</td>\n",
       "      <td>-0.340164</td>\n",
       "      <td>4.365080</td>\n",
       "      <td>73.037750</td>\n",
       "    </tr>\n",
       "    <tr>\n",
       "      <th>2</th>\n",
       "      <td>409Wp</td>\n",
       "      <td>1.022732</td>\n",
       "      <td>0.151990</td>\n",
       "      <td>1.419926</td>\n",
       "      <td>85.265647</td>\n",
       "    </tr>\n",
       "    <tr>\n",
       "      <th>3</th>\n",
       "      <td>iJLyR</td>\n",
       "      <td>-0.032172</td>\n",
       "      <td>0.139033</td>\n",
       "      <td>2.978566</td>\n",
       "      <td>168.620776</td>\n",
       "    </tr>\n",
       "    <tr>\n",
       "      <th>4</th>\n",
       "      <td>Xdl7t</td>\n",
       "      <td>1.988431</td>\n",
       "      <td>0.155413</td>\n",
       "      <td>4.751769</td>\n",
       "      <td>154.036647</td>\n",
       "    </tr>\n",
       "  </tbody>\n",
       "</table>\n",
       "</div>"
      ],
      "text/plain": [
       "      id        f0        f1        f2     product\n",
       "0  txEyH  0.705745 -0.497823  1.221170  105.280062\n",
       "1  2acmU  1.334711 -0.340164  4.365080   73.037750\n",
       "2  409Wp  1.022732  0.151990  1.419926   85.265647\n",
       "3  iJLyR -0.032172  0.139033  2.978566  168.620776\n",
       "4  Xdl7t  1.988431  0.155413  4.751769  154.036647"
      ]
     },
     "execution_count": 8,
     "metadata": {},
     "output_type": "execute_result"
    }
   ],
   "source": [
    "#Общая информация по данным из регионов \n",
    "geo_data_0.info()\n",
    "geo_data_0.head()"
   ]
  },
  {
   "cell_type": "markdown",
   "metadata": {},
   "source": [
    "В таблице `geo_data_0` нет пропущенных значений. Имеет 5 колонок и 100 000 строк. Типы данных соответстуют значениям. "
   ]
  },
  {
   "cell_type": "code",
   "execution_count": 9,
   "metadata": {},
   "outputs": [
    {
     "name": "stdout",
     "output_type": "stream",
     "text": [
      "<class 'pandas.core.frame.DataFrame'>\n",
      "RangeIndex: 100000 entries, 0 to 99999\n",
      "Data columns (total 5 columns):\n",
      " #   Column   Non-Null Count   Dtype  \n",
      "---  ------   --------------   -----  \n",
      " 0   id       100000 non-null  object \n",
      " 1   f0       100000 non-null  float64\n",
      " 2   f1       100000 non-null  float64\n",
      " 3   f2       100000 non-null  float64\n",
      " 4   product  100000 non-null  float64\n",
      "dtypes: float64(4), object(1)\n",
      "memory usage: 3.8+ MB\n"
     ]
    },
    {
     "data": {
      "text/html": [
       "<div>\n",
       "<style scoped>\n",
       "    .dataframe tbody tr th:only-of-type {\n",
       "        vertical-align: middle;\n",
       "    }\n",
       "\n",
       "    .dataframe tbody tr th {\n",
       "        vertical-align: top;\n",
       "    }\n",
       "\n",
       "    .dataframe thead th {\n",
       "        text-align: right;\n",
       "    }\n",
       "</style>\n",
       "<table border=\"1\" class=\"dataframe\">\n",
       "  <thead>\n",
       "    <tr style=\"text-align: right;\">\n",
       "      <th></th>\n",
       "      <th>id</th>\n",
       "      <th>f0</th>\n",
       "      <th>f1</th>\n",
       "      <th>f2</th>\n",
       "      <th>product</th>\n",
       "    </tr>\n",
       "  </thead>\n",
       "  <tbody>\n",
       "    <tr>\n",
       "      <th>0</th>\n",
       "      <td>kBEdx</td>\n",
       "      <td>-15.001348</td>\n",
       "      <td>-8.276000</td>\n",
       "      <td>-0.005876</td>\n",
       "      <td>3.179103</td>\n",
       "    </tr>\n",
       "    <tr>\n",
       "      <th>1</th>\n",
       "      <td>62mP7</td>\n",
       "      <td>14.272088</td>\n",
       "      <td>-3.475083</td>\n",
       "      <td>0.999183</td>\n",
       "      <td>26.953261</td>\n",
       "    </tr>\n",
       "    <tr>\n",
       "      <th>2</th>\n",
       "      <td>vyE1P</td>\n",
       "      <td>6.263187</td>\n",
       "      <td>-5.948386</td>\n",
       "      <td>5.001160</td>\n",
       "      <td>134.766305</td>\n",
       "    </tr>\n",
       "    <tr>\n",
       "      <th>3</th>\n",
       "      <td>KcrkZ</td>\n",
       "      <td>-13.081196</td>\n",
       "      <td>-11.506057</td>\n",
       "      <td>4.999415</td>\n",
       "      <td>137.945408</td>\n",
       "    </tr>\n",
       "    <tr>\n",
       "      <th>4</th>\n",
       "      <td>AHL4O</td>\n",
       "      <td>12.702195</td>\n",
       "      <td>-8.147433</td>\n",
       "      <td>5.004363</td>\n",
       "      <td>134.766305</td>\n",
       "    </tr>\n",
       "  </tbody>\n",
       "</table>\n",
       "</div>"
      ],
      "text/plain": [
       "      id         f0         f1        f2     product\n",
       "0  kBEdx -15.001348  -8.276000 -0.005876    3.179103\n",
       "1  62mP7  14.272088  -3.475083  0.999183   26.953261\n",
       "2  vyE1P   6.263187  -5.948386  5.001160  134.766305\n",
       "3  KcrkZ -13.081196 -11.506057  4.999415  137.945408\n",
       "4  AHL4O  12.702195  -8.147433  5.004363  134.766305"
      ]
     },
     "execution_count": 9,
     "metadata": {},
     "output_type": "execute_result"
    }
   ],
   "source": [
    "#Общая информация по данным из регионов \n",
    "geo_data_1.info()\n",
    "geo_data_1.head()"
   ]
  },
  {
   "cell_type": "markdown",
   "metadata": {},
   "source": [
    "В таблице `geo_data_1` нет пропущенных значений. Имеет 5 колонок и 100 000 строк. Типы данных соответстуют значениям. "
   ]
  },
  {
   "cell_type": "code",
   "execution_count": 10,
   "metadata": {},
   "outputs": [
    {
     "name": "stdout",
     "output_type": "stream",
     "text": [
      "<class 'pandas.core.frame.DataFrame'>\n",
      "RangeIndex: 100000 entries, 0 to 99999\n",
      "Data columns (total 5 columns):\n",
      " #   Column   Non-Null Count   Dtype  \n",
      "---  ------   --------------   -----  \n",
      " 0   id       100000 non-null  object \n",
      " 1   f0       100000 non-null  float64\n",
      " 2   f1       100000 non-null  float64\n",
      " 3   f2       100000 non-null  float64\n",
      " 4   product  100000 non-null  float64\n",
      "dtypes: float64(4), object(1)\n",
      "memory usage: 3.8+ MB\n"
     ]
    },
    {
     "data": {
      "text/html": [
       "<div>\n",
       "<style scoped>\n",
       "    .dataframe tbody tr th:only-of-type {\n",
       "        vertical-align: middle;\n",
       "    }\n",
       "\n",
       "    .dataframe tbody tr th {\n",
       "        vertical-align: top;\n",
       "    }\n",
       "\n",
       "    .dataframe thead th {\n",
       "        text-align: right;\n",
       "    }\n",
       "</style>\n",
       "<table border=\"1\" class=\"dataframe\">\n",
       "  <thead>\n",
       "    <tr style=\"text-align: right;\">\n",
       "      <th></th>\n",
       "      <th>id</th>\n",
       "      <th>f0</th>\n",
       "      <th>f1</th>\n",
       "      <th>f2</th>\n",
       "      <th>product</th>\n",
       "    </tr>\n",
       "  </thead>\n",
       "  <tbody>\n",
       "    <tr>\n",
       "      <th>0</th>\n",
       "      <td>fwXo0</td>\n",
       "      <td>-1.146987</td>\n",
       "      <td>0.963328</td>\n",
       "      <td>-0.828965</td>\n",
       "      <td>27.758673</td>\n",
       "    </tr>\n",
       "    <tr>\n",
       "      <th>1</th>\n",
       "      <td>WJtFt</td>\n",
       "      <td>0.262778</td>\n",
       "      <td>0.269839</td>\n",
       "      <td>-2.530187</td>\n",
       "      <td>56.069697</td>\n",
       "    </tr>\n",
       "    <tr>\n",
       "      <th>2</th>\n",
       "      <td>ovLUW</td>\n",
       "      <td>0.194587</td>\n",
       "      <td>0.289035</td>\n",
       "      <td>-5.586433</td>\n",
       "      <td>62.871910</td>\n",
       "    </tr>\n",
       "    <tr>\n",
       "      <th>3</th>\n",
       "      <td>q6cA6</td>\n",
       "      <td>2.236060</td>\n",
       "      <td>-0.553760</td>\n",
       "      <td>0.930038</td>\n",
       "      <td>114.572842</td>\n",
       "    </tr>\n",
       "    <tr>\n",
       "      <th>4</th>\n",
       "      <td>WPMUX</td>\n",
       "      <td>-0.515993</td>\n",
       "      <td>1.716266</td>\n",
       "      <td>5.899011</td>\n",
       "      <td>149.600746</td>\n",
       "    </tr>\n",
       "  </tbody>\n",
       "</table>\n",
       "</div>"
      ],
      "text/plain": [
       "      id        f0        f1        f2     product\n",
       "0  fwXo0 -1.146987  0.963328 -0.828965   27.758673\n",
       "1  WJtFt  0.262778  0.269839 -2.530187   56.069697\n",
       "2  ovLUW  0.194587  0.289035 -5.586433   62.871910\n",
       "3  q6cA6  2.236060 -0.553760  0.930038  114.572842\n",
       "4  WPMUX -0.515993  1.716266  5.899011  149.600746"
      ]
     },
     "execution_count": 10,
     "metadata": {},
     "output_type": "execute_result"
    }
   ],
   "source": [
    "#Общая информация по данным из регионов \n",
    "geo_data_2.info()\n",
    "geo_data_2.head()"
   ]
  },
  {
   "cell_type": "markdown",
   "metadata": {},
   "source": [
    "В таблице `geo_data_1` нет пропущенных значений. Имеет 5 колонок и 100 000 строк. Типы данных соответстуют значениям. "
   ]
  },
  {
   "cell_type": "markdown",
   "metadata": {},
   "source": [
    "#### Проверка на дубликаты и аномалии"
   ]
  },
  {
   "cell_type": "code",
   "execution_count": 11,
   "metadata": {},
   "outputs": [
    {
     "name": "stdout",
     "output_type": "stream",
     "text": [
      "Количество дубликатов в таблице geo_data_0: 0\n",
      "Количество дубликатов в таблице geo_data_1: 0\n",
      "Количество дубликатов в таблице geo_data_2: 0\n"
     ]
    }
   ],
   "source": [
    "#Дубликаты  \n",
    "print(f'Количество дубликатов в таблице geo_data_0: {geo_data_0.duplicated().sum()}')\n",
    "print(f'Количество дубликатов в таблице geo_data_1: {geo_data_1.duplicated().sum()}')\n",
    "print(f'Количество дубликатов в таблице geo_data_2: {geo_data_2.duplicated().sum()}')"
   ]
  },
  {
   "cell_type": "code",
   "execution_count": 12,
   "metadata": {},
   "outputs": [
    {
     "data": {
      "text/plain": [
       "id          99990\n",
       "f0         100000\n",
       "f1         100000\n",
       "f2         100000\n",
       "product    100000\n",
       "dtype: int64"
      ]
     },
     "execution_count": 12,
     "metadata": {},
     "output_type": "execute_result"
    }
   ],
   "source": [
    "#Неявные дубликаты\n",
    "geo_data_0.nunique()"
   ]
  },
  {
   "cell_type": "code",
   "execution_count": 13,
   "metadata": {},
   "outputs": [
    {
     "data": {
      "text/plain": [
       "id          99996\n",
       "f0         100000\n",
       "f1         100000\n",
       "f2         100000\n",
       "product        12\n",
       "dtype: int64"
      ]
     },
     "execution_count": 13,
     "metadata": {},
     "output_type": "execute_result"
    }
   ],
   "source": [
    "#Неявные дубликаты\n",
    "geo_data_1.nunique()"
   ]
  },
  {
   "cell_type": "code",
   "execution_count": 14,
   "metadata": {},
   "outputs": [
    {
     "data": {
      "text/plain": [
       "id          99996\n",
       "f0         100000\n",
       "f1         100000\n",
       "f2         100000\n",
       "product    100000\n",
       "dtype: int64"
      ]
     },
     "execution_count": 14,
     "metadata": {},
     "output_type": "execute_result"
    }
   ],
   "source": [
    "#Неявные дубликаты\n",
    "geo_data_2.nunique()"
   ]
  },
  {
   "cell_type": "markdown",
   "metadata": {},
   "source": [
    "Во всех трех регионах имеются дубликаты в `id`. Посмотрим на них и перезапишем дубликаты. Возможно ошиблись в названии точки бурения, так как остальные признаки различны. "
   ]
  },
  {
   "cell_type": "code",
   "execution_count": 15,
   "metadata": {},
   "outputs": [],
   "source": [
    "#Нахожу дубликаты и записываю их в новые датафремы\n",
    "id_duplicat_0 =geo_data_0[geo_data_0.duplicated(subset='id')]\n",
    "id_duplicat_1 = geo_data_1[geo_data_1.duplicated(subset='id')]\n",
    "id_duplicat_2 = geo_data_1[geo_data_2.duplicated(subset='id')]"
   ]
  },
  {
   "cell_type": "code",
   "execution_count": 16,
   "metadata": {},
   "outputs": [],
   "source": [
    "# Удаляю дубликаты из исходных таблиц\n",
    "geo_data_0 = geo_data_0[~geo_data_0.duplicated(subset='id')]\n",
    "geo_data_1 = geo_data_1[~geo_data_1.duplicated(subset='id')]\n",
    "geo_data_2 = geo_data_2[~geo_data_2.duplicated(subset='id')]"
   ]
  },
  {
   "cell_type": "code",
   "execution_count": 17,
   "metadata": {},
   "outputs": [],
   "source": [
    "dataframes = [geo_data_0, geo_data_1, geo_data_2]\n",
    "new_rows_list = [id_duplicat_0, id_duplicat_1, id_duplicat_2]"
   ]
  },
  {
   "cell_type": "code",
   "execution_count": 18,
   "metadata": {},
   "outputs": [
    {
     "name": "stdout",
     "output_type": "stream",
     "text": [
      "id         100000\n",
      "f0         100000\n",
      "f1         100000\n",
      "f2         100000\n",
      "product    100000\n",
      "dtype: int64\n",
      "id         100000\n",
      "f0         100000\n",
      "f1         100000\n",
      "f2         100000\n",
      "product        12\n",
      "dtype: int64\n",
      "id         100000\n",
      "f0         100000\n",
      "f1         100000\n",
      "f2         100000\n",
      "product     99999\n",
      "dtype: int64\n"
     ]
    }
   ],
   "source": [
    "for i, (df, new_rows) in enumerate(zip(dataframes, new_rows_list)):\n",
    "    new_rows['id'] = new_rows['id'].astype(str) + \"_1\"  # Добавляем суффикс \"_1\"\n",
    "    dataframes[i] = pd.concat([df, new_rows], ignore_index=True)  # Сохраняем обновленный DataFrame обратно в список\n",
    "    print(dataframes[i].nunique())\n",
    "geo_data_0, geo_data_1, geo_data_2 = dataframes"
   ]
  },
  {
   "cell_type": "markdown",
   "metadata": {},
   "source": [
    "Дубликаты исправлены. Данные мы не потеряли."
   ]
  },
  {
   "cell_type": "code",
   "execution_count": 19,
   "metadata": {},
   "outputs": [
    {
     "data": {
      "text/html": [
       "<div>\n",
       "<style scoped>\n",
       "    .dataframe tbody tr th:only-of-type {\n",
       "        vertical-align: middle;\n",
       "    }\n",
       "\n",
       "    .dataframe tbody tr th {\n",
       "        vertical-align: top;\n",
       "    }\n",
       "\n",
       "    .dataframe thead th {\n",
       "        text-align: right;\n",
       "    }\n",
       "</style>\n",
       "<table border=\"1\" class=\"dataframe\">\n",
       "  <thead>\n",
       "    <tr style=\"text-align: right;\">\n",
       "      <th></th>\n",
       "      <th>f0</th>\n",
       "      <th>f1</th>\n",
       "      <th>f2</th>\n",
       "      <th>product</th>\n",
       "    </tr>\n",
       "  </thead>\n",
       "  <tbody>\n",
       "    <tr>\n",
       "      <th>count</th>\n",
       "      <td>100000.000000</td>\n",
       "      <td>100000.000000</td>\n",
       "      <td>100000.000000</td>\n",
       "      <td>100000.000000</td>\n",
       "    </tr>\n",
       "    <tr>\n",
       "      <th>mean</th>\n",
       "      <td>0.500419</td>\n",
       "      <td>0.250143</td>\n",
       "      <td>2.502647</td>\n",
       "      <td>92.500000</td>\n",
       "    </tr>\n",
       "    <tr>\n",
       "      <th>std</th>\n",
       "      <td>0.871832</td>\n",
       "      <td>0.504433</td>\n",
       "      <td>3.248248</td>\n",
       "      <td>44.288691</td>\n",
       "    </tr>\n",
       "    <tr>\n",
       "      <th>min</th>\n",
       "      <td>-1.408605</td>\n",
       "      <td>-0.848218</td>\n",
       "      <td>-12.088328</td>\n",
       "      <td>0.000000</td>\n",
       "    </tr>\n",
       "    <tr>\n",
       "      <th>25%</th>\n",
       "      <td>-0.072580</td>\n",
       "      <td>-0.200881</td>\n",
       "      <td>0.287748</td>\n",
       "      <td>56.497507</td>\n",
       "    </tr>\n",
       "    <tr>\n",
       "      <th>50%</th>\n",
       "      <td>0.502360</td>\n",
       "      <td>0.250252</td>\n",
       "      <td>2.515969</td>\n",
       "      <td>91.849972</td>\n",
       "    </tr>\n",
       "    <tr>\n",
       "      <th>75%</th>\n",
       "      <td>1.073581</td>\n",
       "      <td>0.700646</td>\n",
       "      <td>4.715088</td>\n",
       "      <td>128.564089</td>\n",
       "    </tr>\n",
       "    <tr>\n",
       "      <th>max</th>\n",
       "      <td>2.362331</td>\n",
       "      <td>1.343769</td>\n",
       "      <td>16.003790</td>\n",
       "      <td>185.364347</td>\n",
       "    </tr>\n",
       "  </tbody>\n",
       "</table>\n",
       "</div>"
      ],
      "text/plain": [
       "                  f0             f1             f2        product\n",
       "count  100000.000000  100000.000000  100000.000000  100000.000000\n",
       "mean        0.500419       0.250143       2.502647      92.500000\n",
       "std         0.871832       0.504433       3.248248      44.288691\n",
       "min        -1.408605      -0.848218     -12.088328       0.000000\n",
       "25%        -0.072580      -0.200881       0.287748      56.497507\n",
       "50%         0.502360       0.250252       2.515969      91.849972\n",
       "75%         1.073581       0.700646       4.715088     128.564089\n",
       "max         2.362331       1.343769      16.003790     185.364347"
      ]
     },
     "execution_count": 19,
     "metadata": {},
     "output_type": "execute_result"
    }
   ],
   "source": [
    "geo_data_0.describe()"
   ]
  },
  {
   "cell_type": "code",
   "execution_count": 20,
   "metadata": {},
   "outputs": [
    {
     "data": {
      "text/html": [
       "<div>\n",
       "<style scoped>\n",
       "    .dataframe tbody tr th:only-of-type {\n",
       "        vertical-align: middle;\n",
       "    }\n",
       "\n",
       "    .dataframe tbody tr th {\n",
       "        vertical-align: top;\n",
       "    }\n",
       "\n",
       "    .dataframe thead th {\n",
       "        text-align: right;\n",
       "    }\n",
       "</style>\n",
       "<table border=\"1\" class=\"dataframe\">\n",
       "  <thead>\n",
       "    <tr style=\"text-align: right;\">\n",
       "      <th></th>\n",
       "      <th>f0</th>\n",
       "      <th>f1</th>\n",
       "      <th>f2</th>\n",
       "      <th>product</th>\n",
       "    </tr>\n",
       "  </thead>\n",
       "  <tbody>\n",
       "    <tr>\n",
       "      <th>count</th>\n",
       "      <td>100000.000000</td>\n",
       "      <td>100000.000000</td>\n",
       "      <td>100000.000000</td>\n",
       "      <td>100000.000000</td>\n",
       "    </tr>\n",
       "    <tr>\n",
       "      <th>mean</th>\n",
       "      <td>1.141296</td>\n",
       "      <td>-4.796579</td>\n",
       "      <td>2.494541</td>\n",
       "      <td>68.825000</td>\n",
       "    </tr>\n",
       "    <tr>\n",
       "      <th>std</th>\n",
       "      <td>8.965932</td>\n",
       "      <td>5.119872</td>\n",
       "      <td>1.703572</td>\n",
       "      <td>45.944423</td>\n",
       "    </tr>\n",
       "    <tr>\n",
       "      <th>min</th>\n",
       "      <td>-31.609576</td>\n",
       "      <td>-26.358598</td>\n",
       "      <td>-0.018144</td>\n",
       "      <td>0.000000</td>\n",
       "    </tr>\n",
       "    <tr>\n",
       "      <th>25%</th>\n",
       "      <td>-6.298551</td>\n",
       "      <td>-8.267985</td>\n",
       "      <td>1.000021</td>\n",
       "      <td>26.953261</td>\n",
       "    </tr>\n",
       "    <tr>\n",
       "      <th>50%</th>\n",
       "      <td>1.153055</td>\n",
       "      <td>-4.813172</td>\n",
       "      <td>2.011479</td>\n",
       "      <td>57.085625</td>\n",
       "    </tr>\n",
       "    <tr>\n",
       "      <th>75%</th>\n",
       "      <td>8.621015</td>\n",
       "      <td>-1.332816</td>\n",
       "      <td>3.999904</td>\n",
       "      <td>107.813044</td>\n",
       "    </tr>\n",
       "    <tr>\n",
       "      <th>max</th>\n",
       "      <td>29.421755</td>\n",
       "      <td>18.734063</td>\n",
       "      <td>5.019721</td>\n",
       "      <td>137.945408</td>\n",
       "    </tr>\n",
       "  </tbody>\n",
       "</table>\n",
       "</div>"
      ],
      "text/plain": [
       "                  f0             f1             f2        product\n",
       "count  100000.000000  100000.000000  100000.000000  100000.000000\n",
       "mean        1.141296      -4.796579       2.494541      68.825000\n",
       "std         8.965932       5.119872       1.703572      45.944423\n",
       "min       -31.609576     -26.358598      -0.018144       0.000000\n",
       "25%        -6.298551      -8.267985       1.000021      26.953261\n",
       "50%         1.153055      -4.813172       2.011479      57.085625\n",
       "75%         8.621015      -1.332816       3.999904     107.813044\n",
       "max        29.421755      18.734063       5.019721     137.945408"
      ]
     },
     "execution_count": 20,
     "metadata": {},
     "output_type": "execute_result"
    }
   ],
   "source": [
    "geo_data_1.describe()"
   ]
  },
  {
   "cell_type": "code",
   "execution_count": 21,
   "metadata": {},
   "outputs": [
    {
     "data": {
      "text/html": [
       "<div>\n",
       "<style scoped>\n",
       "    .dataframe tbody tr th:only-of-type {\n",
       "        vertical-align: middle;\n",
       "    }\n",
       "\n",
       "    .dataframe tbody tr th {\n",
       "        vertical-align: top;\n",
       "    }\n",
       "\n",
       "    .dataframe thead th {\n",
       "        text-align: right;\n",
       "    }\n",
       "</style>\n",
       "<table border=\"1\" class=\"dataframe\">\n",
       "  <thead>\n",
       "    <tr style=\"text-align: right;\">\n",
       "      <th></th>\n",
       "      <th>f0</th>\n",
       "      <th>f1</th>\n",
       "      <th>f2</th>\n",
       "      <th>product</th>\n",
       "    </tr>\n",
       "  </thead>\n",
       "  <tbody>\n",
       "    <tr>\n",
       "      <th>count</th>\n",
       "      <td>100000.000000</td>\n",
       "      <td>100000.000000</td>\n",
       "      <td>100000.000000</td>\n",
       "      <td>100000.000000</td>\n",
       "    </tr>\n",
       "    <tr>\n",
       "      <th>mean</th>\n",
       "      <td>0.001993</td>\n",
       "      <td>-0.002484</td>\n",
       "      <td>2.495074</td>\n",
       "      <td>94.997032</td>\n",
       "    </tr>\n",
       "    <tr>\n",
       "      <th>std</th>\n",
       "      <td>1.732718</td>\n",
       "      <td>1.731322</td>\n",
       "      <td>3.473426</td>\n",
       "      <td>44.749897</td>\n",
       "    </tr>\n",
       "    <tr>\n",
       "      <th>min</th>\n",
       "      <td>-9.168138</td>\n",
       "      <td>-10.848143</td>\n",
       "      <td>-11.970335</td>\n",
       "      <td>0.000000</td>\n",
       "    </tr>\n",
       "    <tr>\n",
       "      <th>25%</th>\n",
       "      <td>-1.162365</td>\n",
       "      <td>-1.174941</td>\n",
       "      <td>0.130269</td>\n",
       "      <td>59.448359</td>\n",
       "    </tr>\n",
       "    <tr>\n",
       "      <th>50%</th>\n",
       "      <td>0.009424</td>\n",
       "      <td>-0.009671</td>\n",
       "      <td>2.484236</td>\n",
       "      <td>94.917850</td>\n",
       "    </tr>\n",
       "    <tr>\n",
       "      <th>75%</th>\n",
       "      <td>1.158535</td>\n",
       "      <td>1.163504</td>\n",
       "      <td>4.858662</td>\n",
       "      <td>130.585544</td>\n",
       "    </tr>\n",
       "    <tr>\n",
       "      <th>max</th>\n",
       "      <td>9.115956</td>\n",
       "      <td>7.844801</td>\n",
       "      <td>16.739402</td>\n",
       "      <td>190.029838</td>\n",
       "    </tr>\n",
       "  </tbody>\n",
       "</table>\n",
       "</div>"
      ],
      "text/plain": [
       "                  f0             f1             f2        product\n",
       "count  100000.000000  100000.000000  100000.000000  100000.000000\n",
       "mean        0.001993      -0.002484       2.495074      94.997032\n",
       "std         1.732718       1.731322       3.473426      44.749897\n",
       "min        -9.168138     -10.848143     -11.970335       0.000000\n",
       "25%        -1.162365      -1.174941       0.130269      59.448359\n",
       "50%         0.009424      -0.009671       2.484236      94.917850\n",
       "75%         1.158535       1.163504       4.858662     130.585544\n",
       "max         9.115956       7.844801      16.739402     190.029838"
      ]
     },
     "execution_count": 21,
     "metadata": {},
     "output_type": "execute_result"
    }
   ],
   "source": [
    "geo_data_2.describe()"
   ]
  },
  {
   "cell_type": "markdown",
   "metadata": {},
   "source": [
    "В данных замечены очень большие и маленькие значениия. Стоит проверить на выбросы. "
   ]
  },
  {
   "cell_type": "markdown",
   "metadata": {},
   "source": [
    "#### Выбросы в данных"
   ]
  },
  {
   "cell_type": "code",
   "execution_count": 22,
   "metadata": {},
   "outputs": [
    {
     "data": {
      "image/png": "[encoded data removed]",
      "text/plain": [
       "<Figure size 3000x1400 with 12 Axes>"
      ]
     },
     "metadata": {},
     "output_type": "display_data"
    }
   ],
   "source": [
    "#Строим размерность\n",
    "fig,ax = plt.subplots(3,4,figsize = (30,14))\n",
    "# Создаю списки для прохода по данным\n",
    "all_data = ['geo_data_0','geo_data_1','geo_data_2']\n",
    "num_column = geo_data_0.columns[1:]\n",
    "#Создаю соединения \n",
    "num_columns = zip(geo_data_0.columns[1:],range(4))\n",
    "all_data_rows = zip([geo_data_0,geo_data_1,geo_data_2],range(3))\n",
    "# Создаю цикл для каждого \n",
    "for column in list(itertools.product(all_data_rows,num_columns)):\n",
    "    ax[column[0][1]][column[1][1]].boxplot(column[0][0][column[1][0]], patch_artist = True, boxprops = dict(facecolor = \"lightgreen\"))\n",
    "\n",
    "for row in range(3):\n",
    "    ax[row][0].set_ylabel(all_data[row], fontsize=16, fontweight=\"bold\", color='red')\n",
    "\n",
    "for column in range(4):\n",
    "    ax[0][column].set_title(num_column[column], fontsize=16, fontweight=\"bold\", color='blue')"
   ]
  },
  {
   "cell_type": "markdown",
   "metadata": {},
   "source": [
    "* Таблица `geo_data_0` выбросы в `f2`\n",
    "* Таблица `geo_data_1` выбросы в `f1`\n",
    "* Таблица `geo_data_2` выбросы в `f0`, `f2`, `f1`\n",
    "\n",
    "Я бы избавилась от выбросов в таблице. Выбросы могут значительно искажать результаты линейной регрессии. Поскольку линейная регрессия использует метод наименьших квадратов для минимизации суммы квадратов отклонений между предсказанными и фактическими значениями, выбросы могут привести к значительным изменениям в коэффициентах модели. Это может уменьшить точность модели и ее способность обобщать на новых данных."
   ]
  },
  {
   "cell_type": "code",
   "execution_count": 23,
   "metadata": {},
   "outputs": [],
   "source": [
    "def data_del_index(data, column):\n",
    "    # Находим 1-й (Q1) и 3-й (Q3) квартили\n",
    "    q25 = data[column].quantile(0.25)\n",
    "    q75 = data[column].quantile(0.75)\n",
    "    \n",
    "    # Вычисляем межквартильный размах (IQR)\n",
    "    iqr = q75 - q25\n",
    "    \n",
    "    # Определяем границы для выбросов\n",
    "    lower_bound = q25 - 1.5 * iqr\n",
    "    upper_bound = q75 + 1.5 * iqr\n",
    "    \n",
    "    # Находим индексы выбросов\n",
    "    data_del_index = data[(data[column] < lower_bound) | (data[column] > upper_bound)].index.tolist()\n",
    "    \n",
    "    return data_del_index"
   ]
  },
  {
   "cell_type": "code",
   "execution_count": 24,
   "metadata": {},
   "outputs": [],
   "source": [
    "#создаем кортеж из датафрема и колонки\n",
    "data_x = [(geo_data_0,'f2'), (geo_data_1,'f0'), \n",
    "                  (geo_data_1,'f1'), (geo_data_2,'f0'), (geo_data_2,'f1'), (geo_data_2,'f2')]"
   ]
  },
  {
   "cell_type": "code",
   "execution_count": 25,
   "metadata": {},
   "outputs": [],
   "source": [
    "#Для каждого значения применяем функцию и удаляем выюросы\n",
    "for data, column in data_x:\n",
    "    indexes = data_del_index(data,column)\n",
    "    data.drop(indexes,axis = 0,inplace = True)"
   ]
  },
  {
   "cell_type": "code",
   "execution_count": 26,
   "metadata": {},
   "outputs": [
    {
     "data": {
      "image/png": "[encoded data removed]",
      "text/plain": [
       "<Figure size 3000x1400 with 12 Axes>"
      ]
     },
     "metadata": {},
     "output_type": "display_data"
    }
   ],
   "source": [
    "#Строим размерность\n",
    "fig,ax = plt.subplots(3,4,figsize = (30,14))\n",
    "# Создаю списки для прохода по данным\n",
    "all_data = ['geo_data_0','geo_data_1','geo_data_2']\n",
    "num_column = geo_data_0.columns[1:]\n",
    "#Создаю соединения \n",
    "num_columns = zip(geo_data_0.columns[1:],range(4))\n",
    "all_data_rows = zip([geo_data_0,geo_data_1,geo_data_2],range(3))\n",
    "# Создаю цикл для каждого \n",
    "for column in list(itertools.product(all_data_rows,num_columns)):\n",
    "    ax[column[0][1]][column[1][1]].boxplot(column[0][0][column[1][0]], patch_artist = True, boxprops = dict(facecolor = \"lightgreen\"))\n",
    "\n",
    "for row in range(3):\n",
    "    ax[row][0].set_ylabel(all_data[row], fontsize=16, fontweight=\"bold\", color='red')\n",
    "\n",
    "for column in range(4):\n",
    "    ax[0][column].set_title(num_column[column], fontsize=16, fontweight=\"bold\", color='blue')"
   ]
  },
  {
   "cell_type": "markdown",
   "metadata": {},
   "source": [
    "Данные подготовлены для дальнейшего анализа и проверки на мультиколлинеарность. В данных имеется 100 000 строк и 5 столбцов. Изменены `id` дубликатов на такие же названия, но с окончание `_1`. Пропусков в данных нет. Выбросы удалены.\n",
    "\n",
    "* Категориальных признаков в данных - нет. Кодирование не понадобиться.\n",
    "* Мы будем работать с линейной регрессией, для нее маштабирование признаков не нужно."
   ]
  },
  {
   "cell_type": "markdown",
   "metadata": {},
   "source": [
    "### Мультиколлинеарность признаков и Визуализация "
   ]
  },
  {
   "cell_type": "markdown",
   "metadata": {},
   "source": [
    "Для дальнейшей работы нам нужно удалить `id` скважин. Так как в линейной регрессии этот признак нам не важен."
   ]
  },
  {
   "cell_type": "code",
   "execution_count": 27,
   "metadata": {},
   "outputs": [],
   "source": [
    "#Удаление id скважин с датасетов + создание единого для цикла\n",
    "geo_0 = geo_data_0.drop(columns = ['id'])\n",
    "geo_1 = geo_data_1.drop(columns = ['id'])\n",
    "geo_2 = geo_data_2.drop(columns = ['id'])\n",
    "data = [geo_0, geo_1, geo_2]"
   ]
  },
  {
   "cell_type": "code",
   "execution_count": 28,
   "metadata": {},
   "outputs": [
    {
     "data": {
      "image/png": "[encoded data removed]",
      "text/plain": [
       "<Figure size 1000x500 with 3 Axes>"
      ]
     },
     "metadata": {},
     "output_type": "display_data"
    }
   ],
   "source": [
    "#Хитмэп для корреляции\n",
    "fig = plt.figure(figsize = (10,5))\n",
    "name = ['Регион 1 - geo_0', 'Регион 2 - geo_1', 'Регион 3 - geo_2']\n",
    "for i in range(3): \n",
    "    ax = fig.add_subplot(1, 3, i+1)\n",
    "    sns.heatmap(data[i].corr(), ax=ax, square=True, annot=True, fmt='.2f', vmax=1, vmin=-1, cbar=False, cmap='coolwarm')\n",
    "    ax.set_title(name[i])"
   ]
  },
  {
   "cell_type": "markdown",
   "metadata": {},
   "source": [
    "* Регион 1 -  _Умеренная корреляция_ между `product и f2` в **0.5**, а так же между `f1` и `f0`**-0.4**.\n",
    "* Регион 2 - **Сильная линейная зависимость** между `f2` и `product` в **1**.\n",
    "* Регион 3 - _Умеренная корреляция_ между `f2` и  `product` в **0.4**"
   ]
  },
  {
   "cell_type": "markdown",
   "metadata": {},
   "source": [
    "Если корреляция Пирсона между зависимой и независимой переменной равна 1, это указывает на идеальную линейную зависимость. В таком случае линейная регрессия подходит, и мы можем ожидать, что модель будет хорошо объяснять изменчивость зависимой переменной."
   ]
  },
  {
   "cell_type": "markdown",
   "metadata": {},
   "source": [
    "#### Визуализация "
   ]
  },
  {
   "cell_type": "code",
   "execution_count": 29,
   "metadata": {},
   "outputs": [
    {
     "data": {
      "text/plain": [
       "<Figure size 1600x800 with 0 Axes>"
      ]
     },
     "metadata": {},
     "output_type": "display_data"
    },
    {
     "data": {
      "image/png": "[encoded data removed]",
      "text/plain": [
       "<Figure size 640x480 with 4 Axes>"
      ]
     },
     "metadata": {},
     "output_type": "display_data"
    },
    {
     "data": {
      "image/png": "[encoded data removed]",
      "text/plain": [
       "<Figure size 640x480 with 4 Axes>"
      ]
     },
     "metadata": {},
     "output_type": "display_data"
    },
    {
     "data": {
      "image/png": "[encoded data removed]",
      "text/plain": [
       "<Figure size 640x480 with 4 Axes>"
      ]
     },
     "metadata": {},
     "output_type": "display_data"
    }
   ],
   "source": [
    "#Распределения\n",
    "fig = plt.figure(figsize = (16,8));\n",
    "colors = ['lightblue', 'lightgreen', 'salmon']\n",
    "for i in range(3):\n",
    "    data[i].hist(bins=20, color=colors[i])\n",
    "    plt.xlabel('Значения')  # Название оси X\n",
    "    plt.ylabel('Частота')   # Название оси Y\n",
    "\n",
    "plt.tight_layout()  # Автоматическая настройка отступов\n",
    "plt.show()"
   ]
  },
  {
   "cell_type": "markdown",
   "metadata": {},
   "source": [
    "* Регион1 - нормальное распределение у `f2` и `product`.  `f1` и `f0` похоже на нормальное и частично биномадбльное распределения.\n",
    "* Регион 2 - нормальное распределение у `f1` и с двумя пиками `f0`. Немного смущает распределение у `f2` и `product`. Больше похоже для кодировки на дискретную величину. И совсем не похоже на другие в данных других регионах.\n",
    "* Регион 3 - все признаки нормально распределены."
   ]
  },
  {
   "cell_type": "code",
   "execution_count": 30,
   "metadata": {
    "scrolled": false
   },
   "outputs": [],
   "source": [
    "# Создаем матрицу диаграмм рассеяния для еще одного способа посмотреть \n",
    "#axes = pd.plotting.scatter_matrix(\n",
    "    #geo_0, \n",
    "    #figsize=(10, 10), \n",
    "    #color='magenta',  # Изменяем цвет на зеленый\n",
    "    #alpha=0.3,  # Увеличиваем прозрачность для лучшей видимости\n",
    "    #hist_kwds={'bins': 10, 'color': 'lightblue'}\n",
    "#)\n",
    "\n",
    "# Настраиваем оси\n",
    "#for ax in axes.flatten():\n",
    "    #ax.xaxis.label.set_rotation(0)\n",
    "    #ax.yaxis.label.set_rotation(0)\n",
    "    #ax.yaxis.label.set_ha('right')\n",
    "    #ax.xaxis.label.set_fontweight('bold')  # Жирный шрифт для меток оси X\n",
    "    #ax.yaxis.label.set_fontweight('bold')  # Жирный шрифт для меток оси Y\n",
    "\n",
    "# Заголовок\n",
    "#plt.suptitle(\n",
    "    #'Матрица диаграмм рассеяния\\nДанные геологоразведки Региона 1\\n', \n",
    "    #fontsize=12, \n",
    "    #fontweight=\"bold\", \n",
    "    #color='blue'  # Изменяем цвет заголовка\n",
    "#)\n",
    "\n",
    "# Убираем лишние отступы\n",
    "#plt.subplots_adjust()\n",
    "\n",
    "# Отображаем график\n",
    "#plt.show()"
   ]
  },
  {
   "cell_type": "markdown",
   "metadata": {},
   "source": [
    "#### Избавление от мультиколлинеарности "
   ]
  },
  {
   "cell_type": "markdown",
   "metadata": {},
   "source": [
    "Осталяю этот вопрос открытым. Пока не знаю стоит ли добавлять признаки или может вводить их в квадрат для избавления от корреляции"
   ]
  },
  {
   "cell_type": "markdown",
   "metadata": {},
   "source": [
    "## Обучение и проверка модели"
   ]
  },
  {
   "cell_type": "markdown",
   "metadata": {},
   "source": [
    "Задание для второго шага:\n",
    "* Разбейте данные на обучающую и валидационную выборки в соотношении 75:25.\n",
    "* Обучите модель и сделайте предсказания на валидационной выборке.\n",
    "* Сохраните предсказания и правильные ответы на валидационной выборке.\n",
    "* Напечатайте на экране средний запас предсказанного сырья и RMSE модели.\n",
    "* Проанализируйте результаты."
   ]
  },
  {
   "cell_type": "code",
   "execution_count": 31,
   "metadata": {},
   "outputs": [],
   "source": [
    "# список предсказаний по объёму сырья в скважине на валидационной выборке\n",
    "predictions_valid = []\n",
    "# список правильных ответов на валидационной выборке\n",
    "true_target = []\n",
    "targets_valid = []\n",
    "\n",
    "predictions_mean = []"
   ]
  },
  {
   "cell_type": "code",
   "execution_count": 32,
   "metadata": {},
   "outputs": [],
   "source": [
    "#Создадим функцию для обучения модели, так как используем для всех регионов.\n",
    "\n",
    "def step_2(data):\n",
    "    # Выделим из переданного датасета\n",
    "    # обучающие признаки features и целевой признак target: \n",
    "    X = data.drop([\"product\"], axis=1)\n",
    "    y = data[\"product\"]\n",
    "    \n",
    "    # Разобьём данные на обучающую и валидационную выборки в соотношении 75:25:    \n",
    "    X_train, X_valid, y_train, y_valid = train_test_split(\n",
    "        X, \n",
    "        y,\n",
    "        test_size=0.25,\n",
    "        random_state=RANDOM_STATE)\n",
    "    \n",
    "    scaler = StandardScaler()\n",
    "    X_train_scaled = scaler.fit_transform(X_train)\n",
    "    X_valid_scaled = scaler.transform(X_valid)\n",
    "    \n",
    "    # Создадим и обучим модель:\n",
    "    model = LinearRegression()\n",
    "    model.fit(X_train_scaled, y_train)\n",
    "    \n",
    "# Cделаем предсказания на валидационной выборке:    \n",
    "    predictions = model.predict(X_valid_scaled)\n",
    "\n",
    "# список предсказаний по объёму сырья в скважине и список правильных ответов\n",
    "    predictions_valid.append(predictions) \n",
    "    true_target.append(y_train.reset_index(drop=True))\n",
    "    targets_valid.append(y_valid.reset_index(drop=True))\n",
    "    predictions_mean.append(round(predictions.mean(),0)) \n",
    "    \n",
    "# Напечатаем средний запас предсказанного сырья и RMSE модели:  \n",
    "    print(\"Средний запас предсказанного сырья: {0:.2f} тыс. баррелей.\". \\\n",
    "          format(predictions.mean()))\n",
    "    print(\"RMSE модели: {0:.2f}.\". \\\n",
    "          format((mean_squared_error(predictions, y_valid))**0.5))   \n",
    "    "
   ]
  },
  {
   "cell_type": "code",
   "execution_count": 33,
   "metadata": {},
   "outputs": [
    {
     "name": "stdout",
     "output_type": "stream",
     "text": [
      "\n",
      "Регион 1   Датасет geo_ 0 :\n",
      "Средний запас предсказанного сырья: 92.70 тыс. баррелей.\n",
      "RMSE модели: 37.49.\n",
      "\n",
      "Регион 2   Датасет geo_ 1 :\n",
      "Средний запас предсказанного сырья: 69.13 тыс. баррелей.\n",
      "RMSE модели: 0.89.\n",
      "\n",
      "Регион 3   Датасет geo_ 2 :\n",
      "Средний запас предсказанного сырья: 95.01 тыс. баррелей.\n",
      "RMSE модели: 39.99.\n"
     ]
    }
   ],
   "source": [
    "for i in range(3):\n",
    "    print(\"\\nРегион\", i+1, \"  Датасет geo_\", i, \":\")\n",
    "    step_2(data[i])"
   ]
  },
  {
   "cell_type": "code",
   "execution_count": 34,
   "metadata": {},
   "outputs": [
    {
     "data": {
      "image/png": "[encoded data removed]",
      "text/plain": [
       "<Figure size 640x480 with 1 Axes>"
      ]
     },
     "metadata": {},
     "output_type": "display_data"
    }
   ],
   "source": [
    "def func(pct, allvalues):\n",
    "    absolute = int(pct / 100.*np.sum(allvalues))\n",
    "    return \"{:.0f}%\\n({:d} тыс bbls)\".format(pct, absolute)\n",
    "\n",
    "colors = ['#ff9999', '#66b3ff', '#99ff99'] \n",
    "labels = ['Регион 1', 'Регион 2', 'Регион 3']\n",
    "fig, ax = plt.subplots()\n",
    "ax.pie(predictions_mean, labels=labels,colors=colors, \n",
    "       autopct = lambda pct: func(pct, predictions_mean),)\n",
    "ax.set_title(\"Средние запасы нефти по регионам\", color='green')\n",
    "plt.show();"
   ]
  },
  {
   "cell_type": "markdown",
   "metadata": {},
   "source": [
    "**Вывод:**\n",
    "\n",
    "На данном этапе провели обучение и проверку модели линейной регрессии предварительно разделив данные каждого региона на обучающую и валидационную выборки в соотношении 75:25. \n",
    "\n",
    "Привели признаки к единому масштабу для данных каждого региона.\n",
    "\n",
    "\n",
    "Показано, что максимальный средний запас предсказанного сырья в 3-ем регионе с значением 95.01 тысяч баррелей\n",
    "\n",
    "В данных 2-го региона RMSE близко к 0. Это произошло за счёт, фактически, прямой корреляции одного из признаков с целевым, замеченной нами ранее"
   ]
  },
  {
   "cell_type": "markdown",
   "metadata": {},
   "source": [
    "## Подготовка к расчёту прибыли"
   ]
  },
  {
   "cell_type": "markdown",
   "metadata": {},
   "source": [
    "Задание для 3 шага:\n",
    "* Все ключевые значения для расчётов сохраните в отдельных переменных.\n",
    "* Рассчитайте достаточный объём сырья для безубыточной разработки новой скважины.\n",
    "* Сравните полученный объём сырья со средним запасом в каждом регионе. \n",
    "* Напишите выводы по этапу подготовки расчёта прибыли."
   ]
  },
  {
   "cell_type": "markdown",
   "metadata": {},
   "source": [
    "Условия задачи:\n",
    "\n",
    "* Для обучения модели подходит только линейная регрессия (остальные — недостаточно предсказуемые).\n",
    "* При разведке региона исследуют 500 точек, из которых с помощью машинного обучения выбирают 200 лучших для разработки.\n",
    "* Бюджет на разработку скважин в регионе — 10 млрд рублей.\n",
    "* При нынешних ценах один баррель сырья приносит 450 рублей дохода. Доход с каждой единицы продукта составляет 450 тыс. рублей, поскольку объём указан в тысячах баррелей.\n",
    "* После оценки рисков нужно оставить лишь те регионы, в которых вероятность убытков меньше 2.5%. Среди них выбирают регион с наибольшей средней прибылью."
   ]
  },
  {
   "cell_type": "code",
   "execution_count": 35,
   "metadata": {},
   "outputs": [],
   "source": [
    "# Создам основные переменные \n",
    "# При разведке региона исследуют 500 точек:\n",
    "POINT = 500\n",
    "BEST_POINT = 200\n",
    "# Бюджет на разработку скважин в регионе — 10 млрд рублей:\n",
    "BUDGET = 1e07 # в тыс рублей \n",
    "# Доход с каждой единицы продукта:\n",
    "IN_COME = 450\n",
    "# Количество выборок для метода Bootstrap\n",
    "NUM_CIRCLE_BOOTATRAP = 1000 "
   ]
  },
  {
   "cell_type": "code",
   "execution_count": 33,
   "metadata": {},
   "outputs": [
    {
     "name": "stdout",
     "output_type": "stream",
     "text": [
      "Точка безубыточности: 22222 тыс. баррелей на каждый регион.\n",
      "\n",
      "Средний объем нефти в скважине, требуемый для безубыточной работы: 111 тыс. баррелей.\n"
     ]
    }
   ],
   "source": [
    "#Рассчитайте достаточный объём сырья для безубыточной разработки новой скважины.\n",
    "print(\"Точка безубыточности: {0:.0f} тыс. баррелей на каждый регион.\\n\". \\\n",
    "      format(BUDGET/ IN_COME))\n",
    "print(\"Средний объем нефти в скважине, требуемый для безубыточной работы: {0:.0f} тыс. баррелей.\". \\\n",
    "      format(BUDGET / IN_COME /BEST_POINT))"
   ]
  },
  {
   "cell_type": "markdown",
   "metadata": {},
   "source": [
    "<div class=\"alert alert-success\" style=\"border-radius: 15px; box-shadow: 4px 4px 4px; border: 1px solid \">\n",
    "<h2> Комментарий ревьюера ✔️</h2>\n",
    "    \n",
    "Верно. \n",
    "</div>"
   ]
  },
  {
   "cell_type": "code",
   "execution_count": 34,
   "metadata": {},
   "outputs": [
    {
     "data": {
      "text/html": [
       "<div>\n",
       "<style scoped>\n",
       "    .dataframe tbody tr th:only-of-type {\n",
       "        vertical-align: middle;\n",
       "    }\n",
       "\n",
       "    .dataframe tbody tr th {\n",
       "        vertical-align: top;\n",
       "    }\n",
       "\n",
       "    .dataframe thead th {\n",
       "        text-align: right;\n",
       "    }\n",
       "</style>\n",
       "<table border=\"1\" class=\"dataframe\">\n",
       "  <thead>\n",
       "    <tr style=\"text-align: right;\">\n",
       "      <th></th>\n",
       "      <th>Датасет</th>\n",
       "      <th>Средний запас предсказанного по валидационной выборке сырья (тыс. баррелей)</th>\n",
       "    </tr>\n",
       "  </thead>\n",
       "  <tbody>\n",
       "    <tr>\n",
       "      <th>0</th>\n",
       "      <td>регион_1:</td>\n",
       "      <td>92.70 &lt; 111</td>\n",
       "    </tr>\n",
       "    <tr>\n",
       "      <th>1</th>\n",
       "      <td>регион_2:</td>\n",
       "      <td>69.13 &lt; 111</td>\n",
       "    </tr>\n",
       "    <tr>\n",
       "      <th>2</th>\n",
       "      <td>регион_3:</td>\n",
       "      <td>95.01 &lt; 111</td>\n",
       "    </tr>\n",
       "  </tbody>\n",
       "</table>\n",
       "</div>"
      ],
      "text/plain": [
       "     Датасет  \\\n",
       "0  регион_1:   \n",
       "1  регион_2:   \n",
       "2  регион_3:   \n",
       "\n",
       "  Средний запас предсказанного по валидационной выборке сырья (тыс. баррелей)  \n",
       "0                                        92.70 < 111                           \n",
       "1                                        69.13 < 111                           \n",
       "2                                        95.01 < 111                           "
      ]
     },
     "metadata": {},
     "output_type": "display_data"
    },
    {
     "data": {
      "text/html": [
       "<div>\n",
       "<style scoped>\n",
       "    .dataframe tbody tr th:only-of-type {\n",
       "        vertical-align: middle;\n",
       "    }\n",
       "\n",
       "    .dataframe tbody tr th {\n",
       "        vertical-align: top;\n",
       "    }\n",
       "\n",
       "    .dataframe thead th {\n",
       "        text-align: right;\n",
       "    }\n",
       "</style>\n",
       "<table border=\"1\" class=\"dataframe\">\n",
       "  <thead>\n",
       "    <tr style=\"text-align: right;\">\n",
       "      <th></th>\n",
       "      <th>Датасет</th>\n",
       "      <th>Среднее значение реального запасa сырья по полного кол-ву скважин в регионе (тыс. баррелей)</th>\n",
       "    </tr>\n",
       "  </thead>\n",
       "  <tbody>\n",
       "    <tr>\n",
       "      <th>0</th>\n",
       "      <td>регион_1:</td>\n",
       "      <td>92.50 &lt; 111</td>\n",
       "    </tr>\n",
       "    <tr>\n",
       "      <th>1</th>\n",
       "      <td>регион_2:</td>\n",
       "      <td>68.81 &lt; 111</td>\n",
       "    </tr>\n",
       "    <tr>\n",
       "      <th>2</th>\n",
       "      <td>регион_3:</td>\n",
       "      <td>94.78 &lt; 111</td>\n",
       "    </tr>\n",
       "  </tbody>\n",
       "</table>\n",
       "</div>"
      ],
      "text/plain": [
       "     Датасет  \\\n",
       "0  регион_1:   \n",
       "1  регион_2:   \n",
       "2  регион_3:   \n",
       "\n",
       "  Среднее значение реального запасa сырья по полного кол-ву скважин в регионе (тыс. баррелей)  \n",
       "0                                        92.50 < 111                                           \n",
       "1                                        68.81 < 111                                           \n",
       "2                                        94.78 < 111                                           "
      ]
     },
     "metadata": {},
     "output_type": "display_data"
    }
   ],
   "source": [
    "#Сравнение полученного объёма сырья со средним запасом в каждом регионе.\n",
    "df_result_predict = pd.DataFrame(columns=['Датасет',\n",
    "                    'Средний запас предсказанного по валидационной выборке сырья (тыс. баррелей)']\n",
    ")\n",
    "\n",
    "for region in range(3):\n",
    "    df_result_predict.loc[len(df_result_predict)] = \\\n",
    "        [f'регион_{region+1}:', \n",
    "         f'{predictions_valid[region].mean():.2f} < 111']\n",
    "\n",
    "display(df_result_predict)\n",
    "\n",
    "\n",
    "df_reserves = pd.DataFrame(columns=['Датасет',\n",
    "                    'Среднее значение реального запасa сырья по полного кол-ву скважин в регионе (тыс. баррелей)']\n",
    ")\n",
    "\n",
    "for region in range(3):\n",
    "    value = data[region]['product'].mean()\n",
    "    df_reserves.loc[len(df_reserves)] = \\\n",
    "        [f'регион_{region+1}:', f'{value:.2f} < 111']\n",
    "\n",
    "display(df_reserves)   "
   ]
  },
  {
   "cell_type": "markdown",
   "metadata": {},
   "source": [
    "**Промежуточные результаты:**\n",
    "\n",
    "* Среднее значение запаса сырья по всем скважинам для каждого из регионов меньше, чем точка безубыточности: 111 тыс. баррелей (объём сырья для безубыточной разработки новой скважины).\n",
    "* Разработку всех скважин вести нерентабельно.\n",
    "* Из всех скважин нужно выбрать всего 200 лучших с максимальными запасами и вкладывать деньги в их запуск и производственную деятельность."
   ]
  },
  {
   "cell_type": "markdown",
   "metadata": {},
   "source": [
    "<div class=\"alert alert-success\" style=\"border-radius: 15px; box-shadow: 4px 4px 4px; border: 1px solid \">\n",
    "<h2> Комментарий ревьюера ✔️</h2>\n",
    "    \n",
    "Получается, даже средние истинные значения не достигают рассчитанного выше значения безубытка. Таким образом, мы пока не можем выбрать ни один из регионов. Здесь нам и помогут модели.\n",
    "    \n",
    "</div>"
   ]
  },
  {
   "cell_type": "markdown",
   "metadata": {},
   "source": [
    "## Расчёт прибыли и рисков "
   ]
  },
  {
   "cell_type": "markdown",
   "metadata": {},
   "source": [
    "* Выбрать скважины с максимальными значениями предсказаний.\n",
    "* Просуммировать целевое значение объёма сырья, соответствующее этим предсказаниям.\n",
    "* Рассчитать прибыль для полученного объёма сырья."
   ]
  },
  {
   "cell_type": "code",
   "execution_count": 36,
   "metadata": {},
   "outputs": [
    {
     "name": "stdout",
     "output_type": "stream",
     "text": [
      "По 200-м лучшим скважинам:\n"
     ]
    },
    {
     "data": {
      "text/html": [
       "<div>\n",
       "<style scoped>\n",
       "    .dataframe tbody tr th:only-of-type {\n",
       "        vertical-align: middle;\n",
       "    }\n",
       "\n",
       "    .dataframe tbody tr th {\n",
       "        vertical-align: top;\n",
       "    }\n",
       "\n",
       "    .dataframe thead th {\n",
       "        text-align: right;\n",
       "    }\n",
       "</style>\n",
       "<table border=\"1\" class=\"dataframe\">\n",
       "  <thead>\n",
       "    <tr style=\"text-align: right;\">\n",
       "      <th></th>\n",
       "      <th>Регион</th>\n",
       "      <th>Прибыль (млрд. руб)</th>\n",
       "    </tr>\n",
       "  </thead>\n",
       "  <tbody>\n",
       "    <tr>\n",
       "      <th>0</th>\n",
       "      <td>Регион 3</td>\n",
       "      <td>3.121198</td>\n",
       "    </tr>\n",
       "    <tr>\n",
       "      <th>1</th>\n",
       "      <td>Регион 3</td>\n",
       "      <td>2.415087</td>\n",
       "    </tr>\n",
       "    <tr>\n",
       "      <th>2</th>\n",
       "      <td>Регион 3</td>\n",
       "      <td>2.424892</td>\n",
       "    </tr>\n",
       "  </tbody>\n",
       "</table>\n",
       "</div>"
      ],
      "text/plain": [
       "     Регион  Прибыль (млрд. руб)\n",
       "0  Регион 3             3.121198\n",
       "1  Регион 3             2.415087\n",
       "2  Регион 3             2.424892"
      ]
     },
     "metadata": {},
     "output_type": "display_data"
    }
   ],
   "source": [
    "# Создадим пустой датафрейм result, чтобы потом добавлять в него строками данные:\n",
    "df_result_best_200 = pd.DataFrame(\n",
    "            columns=['Регион',\n",
    "            'Прибыль (млрд. руб)']\n",
    ")\n",
    "\n",
    "predict_200_best = [] # список с двумястами лучшими значениями запасов нефти \n",
    "\n",
    "\n",
    "# Функция расчёта прибыли\n",
    "def calc_profit(target, predictions):\n",
    "    predictions_sorted = predictions.sort_values(ascending=False)\n",
    "    target_selected = target[predictions_sorted.index][:BEST_POINT]\n",
    "\n",
    "    return target_selected.sum() * IN_COME - BUDGET\n",
    "\n",
    "\n",
    "print(\"По 200-м лучшим скважинам:\")\n",
    "for region in range(3):\n",
    "    predictions_sample = pd.Series(predictions_valid[region])      \n",
    "    \n",
    "    profit = calc_profit(targets_valid[region], predictions_sample)\n",
    "    \n",
    "    df_result_best_200.loc[len(df_result_best_200.index)] = \\\n",
    "        [\"Регион \" + str(i+1), profit/1000000]\n",
    "\n",
    "display(df_result_best_200)  "
   ]
  },
  {
   "cell_type": "markdown",
   "metadata": {},
   "source": [
    "<div class=\"alert alert-success\" style=\"border-radius: 15px; box-shadow: 4px 4px 4px; border: 1px solid \">\n",
    "<h2> Комментарий ревьюера ✔️</h2>\n",
    "    \n",
    "Верно, сортировка идет по предсказаниям, но для вычисления прибыли следует использовать таргеты, т.к. предсказания могут не быть верными. \n",
    "\n",
    "</div>"
   ]
  },
  {
   "cell_type": "markdown",
   "metadata": {},
   "source": [
    "Все 3 Региона имеют достаточно хорошую прибыль по 200 скважинам."
   ]
  },
  {
   "cell_type": "markdown",
   "metadata": {},
   "source": [
    "<div class=\"alert alert-success\" style=\"border-radius: 15px; box-shadow: 4px 4px 4px; border: 1px solid \">\n",
    "<h2> Комментарий ревьюера ✔️</h2>\n",
    "    \n",
    "Да, тут важно подчеркнуть, что оценка идет лишь по 200 лучшим точкам. \n",
    "\n",
    "</div>"
   ]
  },
  {
   "cell_type": "markdown",
   "metadata": {},
   "source": [
    "## Риски и прибыль для каждого региона"
   ]
  },
  {
   "cell_type": "markdown",
   "metadata": {},
   "source": [
    "* Примените технику Bootstrap с 1000 выборок, чтобы найти распределение прибыли.\n",
    "* Найдите среднюю прибыль, 95%-й доверительный интервал и риск убытков. Убыток — это отрицательная прибыль.\n",
    "* Напишите выводы: предложите регион для разработки скважин и обоснуйте выбор."
   ]
  },
  {
   "cell_type": "code",
   "execution_count": 37,
   "metadata": {},
   "outputs": [],
   "source": [
    "from tqdm.auto import tqdm"
   ]
  },
  {
   "cell_type": "code",
   "execution_count": 38,
   "metadata": {},
   "outputs": [],
   "source": [
    "RANDOM_FIX_NUMBER = 12345  # Введем глобальную переменную для значения random_state\n",
    "STATE = np.random.RandomState(RANDOM_FIX_NUMBER)"
   ]
  },
  {
   "cell_type": "code",
   "execution_count": 40,
   "metadata": {},
   "outputs": [
    {
     "data": {
      "application/vnd.jupyter.widget-view+json": {
       "model_id": "d9150ae0be1e4d83944a06f072db3a3b",
       "version_major": 2,
       "version_minor": 0
      },
      "text/plain": [
       "  0%|          | 0/1000 [00:00<?, ?it/s]"
      ]
     },
     "metadata": {},
     "output_type": "display_data"
    },
    {
     "data": {
      "application/vnd.jupyter.widget-view+json": {
       "model_id": "f7eb7aa0df084302970573627415c8d5",
       "version_major": 2,
       "version_minor": 0
      },
      "text/plain": [
       "  0%|          | 0/1000 [00:00<?, ?it/s]"
      ]
     },
     "metadata": {},
     "output_type": "display_data"
    },
    {
     "data": {
      "application/vnd.jupyter.widget-view+json": {
       "model_id": "5207e5c1f4f74522bfe9a32804888869",
       "version_major": 2,
       "version_minor": 0
      },
      "text/plain": [
       "  0%|          | 0/1000 [00:00<?, ?it/s]"
      ]
     },
     "metadata": {},
     "output_type": "display_data"
    },
    {
     "data": {
      "text/html": [
       "<div>\n",
       "<style scoped>\n",
       "    .dataframe tbody tr th:only-of-type {\n",
       "        vertical-align: middle;\n",
       "    }\n",
       "\n",
       "    .dataframe tbody tr th {\n",
       "        vertical-align: top;\n",
       "    }\n",
       "\n",
       "    .dataframe thead th {\n",
       "        text-align: right;\n",
       "    }\n",
       "</style>\n",
       "<table border=\"1\" class=\"dataframe\">\n",
       "  <thead>\n",
       "    <tr style=\"text-align: right;\">\n",
       "      <th></th>\n",
       "      <th>Датасет</th>\n",
       "      <th>Средняя прибыль от 200 лучших скважин (млн. руб.)</th>\n",
       "      <th>95%-й доверительный интервал от 200 лучших скважин (млн. руб.)</th>\n",
       "      <th>Риск убытков при 200 лучших скважин (%)</th>\n",
       "    </tr>\n",
       "  </thead>\n",
       "  <tbody>\n",
       "    <tr>\n",
       "      <th>0</th>\n",
       "      <td>регион_1:</td>\n",
       "      <td>425</td>\n",
       "      <td>-117 ... 918</td>\n",
       "      <td>6.1</td>\n",
       "    </tr>\n",
       "    <tr>\n",
       "      <th>1</th>\n",
       "      <td>регион_2:</td>\n",
       "      <td>477</td>\n",
       "      <td>82 ... 891</td>\n",
       "      <td>0.8</td>\n",
       "    </tr>\n",
       "    <tr>\n",
       "      <th>2</th>\n",
       "      <td>регион_3:</td>\n",
       "      <td>341</td>\n",
       "      <td>-175 ... 844</td>\n",
       "      <td>10.6</td>\n",
       "    </tr>\n",
       "  </tbody>\n",
       "</table>\n",
       "</div>"
      ],
      "text/plain": [
       "     Датасет Средняя прибыль от 200 лучших скважин (млн. руб.)  \\\n",
       "0  регион_1:                                               425   \n",
       "1  регион_2:                                               477   \n",
       "2  регион_3:                                               341   \n",
       "\n",
       "  95%-й доверительный интервал от 200 лучших скважин (млн. руб.)  \\\n",
       "0                                       -117 ... 918               \n",
       "1                                         82 ... 891               \n",
       "2                                       -175 ... 844               \n",
       "\n",
       "  Риск убытков при 200 лучших скважин (%)  \n",
       "0                                     6.1  \n",
       "1                                     0.8  \n",
       "2                                    10.6  "
      ]
     },
     "metadata": {},
     "output_type": "display_data"
    }
   ],
   "source": [
    "# Создадим пустой датафрейм result, чтобы потом добавлять в него строками данные:\n",
    "\n",
    "#print(\"По 200-м лучшим скважинам:\")\n",
    "\n",
    "df_result = pd.DataFrame(\n",
    "            columns=['Датасет',\n",
    "            'Средняя прибыль от 200 лучших скважин (млн. руб.)', \n",
    "            '95%-й доверительный интервал от 200 лучших скважин (млн. руб.)', \n",
    "            'Риск убытков при 200 лучших скважин (%)']\n",
    ")\n",
    "Y = []\n",
    "#Для текущего региона извлекаются предсказания и целевые значения.\n",
    "for region in range(3):\n",
    "    predictions = predictions_valid[region]\n",
    "    target = targets_valid[region]\n",
    "#Инициализация списка для прибыли\n",
    "    profit_values = []\n",
    "    \n",
    "#В этом цикле происходит бутстрэппинг — случайное выборка данных с возвращением.\n",
    "#NUM_CIRCLE_BOOTATRAP — это количество итераций бутстрэппинга.\n",
    "    for i in tqdm(range(NUM_CIRCLE_BOOTATRAP)):\n",
    "        # выбираем 500 скважин:\n",
    "        target_sample  = target.sample(POINT, replace=True, random_state=STATE)\n",
    "\n",
    "        # выбираем соответствующие этим 500 скважинам предсказания:\n",
    "        predictions_sample = predictions[target_sample.index]\n",
    "\n",
    "        target_sample = target_sample.reset_index(drop = True)\n",
    "        predictions_sample = pd.Series(predictions_sample)\n",
    "        predictions_sample = predictions_sample.reset_index(drop = True)\n",
    "              \n",
    "        profit_values.append(calc_profit(target_sample, predictions_sample))\n",
    " \n",
    " #Здесь вычисляется средняя прибыль, доверительный интервал (2.5%-й и 97.5%-й квантили) \n",
    "#и риск убытков (доля отрицательных значений прибыли).\n",
    "\n",
    "    profit_values = pd.Series(profit_values)\n",
    "    mean_profit = (f'{round(profit_values.mean()/1000)}')\n",
    "    confidence_interval = (f'{profit_values.quantile(0.025)/1000:.0f} ... ' \n",
    "                           f'{profit_values.quantile(0.975)/1000:.0f}') \n",
    "    risks = round((profit_values < 0).mean()*100, 1)\n",
    "    Y.append(risks)    \n",
    "# Результаты по текущему региону добавляются в DataFrame df_result.   \n",
    "    df_result.loc[len(df_result)] = [f'регион_{region+1}:', \n",
    "                                     mean_profit, confidence_interval, f'{risks}']\n",
    "  \n",
    "display(df_result)"
   ]
  },
  {
   "cell_type": "markdown",
   "metadata": {},
   "source": [
    "<div class=\"alert alert-success\" style=\"border-radius: 15px; box-shadow: 4px 4px 4px; border: 1px solid \">\n",
    "<h2> Комментарий ревьюера ✔️</h2>\n",
    "    \n",
    "Правильно. Верно и то, что есть возвращение после сэмплирования. \n",
    "</div>"
   ]
  },
  {
   "cell_type": "code",
   "execution_count": 42,
   "metadata": {},
   "outputs": [
    {
     "data": {
      "image/png": "[encoded data removed]",
      "text/plain": [
       "<Figure size 432x288 with 1 Axes>"
      ]
     },
     "metadata": {
      "needs_background": "light"
     },
     "output_type": "display_data"
    }
   ],
   "source": [
    "X = ['Регион 1', 'Регион 2', 'Регион 3']\n",
    "c = ['orange']\n",
    "plt.bar(X, Y, color=c)\n",
    "\n",
    "# Добавление значений над столбцами\n",
    "for i in range(len(Y)):\n",
    "    plt.text(X[i], Y[i], float(Y[i]), \n",
    "             horizontalalignment='center', verticalalignment='bottom', \n",
    "             fontdict={'fontweight': 500, 'size': 12})\n",
    "\n",
    "# Заголовок и подписи\n",
    "plt.title(\"Риск убытков при разработке 200 лучших скважин\", fontsize=12, color='blue')\n",
    "plt.ylabel('Риск, %', fontsize=12, color='blue')\n",
    "\n",
    "# Установка меток по оси X\n",
    "plt.xticks(ticks=range(len(X)), labels=X, fontsize=12, color='blue')\n",
    "\n",
    "# Показать график\n",
    "plt.show()"
   ]
  },
  {
   "cell_type": "markdown",
   "metadata": {},
   "source": [
    "* В регионе 2 (файл с исходными данными: 'geo_data_1.csv') вероятность убытков меньше 2.5%.\n",
    "* Средняя прибыль в регионе 2 составляет более 450 млн рублей.\n",
    "* Для региона 2 95%-й доверительный интервал не содержит отрицательных значений."
   ]
  },
  {
   "cell_type": "markdown",
   "metadata": {},
   "source": [
    "<div class=\"alert alert-success\" style=\"border-radius: 15px; box-shadow: 4px 4px 4px; border: 1px solid \">\n",
    "<h2> Комментарий ревьюера ✔️</h2>\n",
    "    \n",
    "Визуализации лишними не бывают :)\n",
    "</div>\n",
    "\n",
    "<div class=\"alert alert-warning\" style=\"border-radius: 15px; box-shadow: 4px 4px 4px; border: 1px solid \">\n",
    "<h2> Комментарий ревьюера  ⚠️</h2>\n",
    "    \n",
    "Поскольку на оси Х уже есть подписи, разные цвета тут не нужны. С одной стороны, красиво, но с другой, это лишняя информация.     \n",
    "</div>\n",
    "<div class=\"alert alert-danger\" style=\"border-radius: 15px; box-shadow: 4px 4px 4px; border: 1px solid \">\n",
    "<h2> Комментарий ревьюера  ❌</h2>\n",
    "    \n",
    "Пожалуйста, не забывай и про общий вывод. Попробуй кратко перечислить результаты (что сделано) и выводы из них.\n",
    "\n",
    "</div>"
   ]
  },
  {
   "cell_type": "markdown",
   "metadata": {},
   "source": [
    "<div class=\"alert\" style=\"border-radius: 15px; box-shadow: 4px 4px 10px rgba(0, 0, 0, 0.2); border: 1px solid #4A90E2; background-color: #F9F9F9;\">  \n",
    "    <h2 style=\"color: #4A90E2;\">Комментарий студента 👤</h2> \n",
    "    \n",
    "Исправлено. Цвета убраны.\n",
    "</div>"
   ]
  },
  {
   "cell_type": "markdown",
   "metadata": {},
   "source": [
    "## Общий вывод"
   ]
  },
  {
   "cell_type": "markdown",
   "metadata": {},
   "source": [
    "Добывающая компании **«ГлавРосГосНефть».**\n",
    "\n",
    "Цель проекта: где бурить новую скважину.\n",
    "\n",
    "Задача: Построить модель машинного обучения, которая поможет определить регион, где добыча принесёт наибольшую прибыль. Проанализировать возможную прибыль и риски техникой *Bootstrap.*\n",
    "\n",
    "**Что сделано**\n",
    "\n",
    "_В первом шаге:_\n",
    "* Мы импортировари библиотеки pandas, numpy, matplotlib, seaborn, stats, sklearn и другие. \n",
    "* Считывали данные из csv-файлов и сохраним в переменные `geo_data_0, geo_data_1, geo_data_2` соответственно. Путь к файлам: `/datasets/geo_data_0.csv`, `/datasets/geo_data_2.csv`. \n",
    "* Просматрели  общую информацию по данным. В данных по 3-м регионам имеются 5 столбцов и 10 000 строк. \n",
    "* Типы данных соответствуют указанным в таблице данным. Методом describe(), отметили аномалии и после удалили их.Пропусков в данных - нет.\n",
    "* Во всех трех регионах имеются дубликаты в id. Перезаписали дубликаты. Причина перезаписи: Возможная ошибка в названии точки бурения, так как остальные признаки различны.\n",
    "Данные подготовлены для дальнейшего анализа и проверки на мультиколлинеарность. \n",
    "* Категориальных признаков в данных - нет. Кодирование не понадобиться.\n",
    "* Мы будем работать с линейной регрессией. Следовательно удаляем `id`.\n",
    "\n",
    "Проверили на мультиколлинеарность.\n",
    "* Регион 2 - **Сильная линейная зависимость** между `f2` и `product` в **1**.\n",
    "\n",
    "Если корреляция Пирсона между зависимой и независимой переменной равна 1 (у нас это **Регион 2**), это указывает **на идеальную линейную зависимость.** В таком случае линейная регрессия подходит, и мы можем ожидать, что модель будет хорошо объяснять изменчивость зависимой переменной.\n",
    "\n",
    "При визуализации данных определено, что у Региона 2  нормальное распределение у признака `f1` и с двумя пиками `f0`. Немного смущало распределение у `f2` и `product`. Больше похоже на данные  для кодировки и на дискретную величину. И совсем не похоже на другие распределения в данных других регионах.\n",
    "\n",
    "_Во втором шаге:_\n",
    "\n",
    "* Разбили данные на обучающую и валидационную выборки в соотношении 75:25.\n",
    "* Обучили модель и сделали предсказания на валидационной выборке.\n",
    "* Сохранили предсказания `predictions_valid` и правильные ответы на валидационной выборке.`targets_valid`\n",
    "* Напечатали на экране средний запас предсказанного сырья `predictions_mean`и RMSE модели.\n",
    "* Привели признаки к единому масштабу для данных каждого региона.\n",
    "\n",
    "Показано, что **максимальный средний запас предсказанного сырья в 3-ем регионе с значением 95.01 тысяч баррелей**\n",
    "В данных **2-го региона RMSE близко к 0**. Это произошло за счёт, фактически, прямой корреляции одного из признаков с целевым, замеченной нами ранее. Это означает, что предсказания становятся все более точными и близкими к фактическим значениям.\n",
    "\n",
    "_В третьем шаге_:\n",
    "\n",
    "* **Среднее значение запаса сырья** по всем скважинам для каждого из регионов **меньше, чем точка безубыточности**: 111 тыс. баррелей (объём сырья для безубыточной разработки новой скважины).\n",
    "* Разработку всех скважин вести нерентабельно.\n",
    "* Из всех скважин нужно выбрать всего 200 лучших с максимальными запасами и вкладывать деньги в их запуск и производственную деятельность.\n",
    "\n",
    "_В четвертом шаге:_\n",
    "\n",
    "* Регион 1\t- 3.121198 млрд. рубл\n",
    "* Регион 2\t- 2.415087 млрд. рубл\n",
    "* Регион 3\t- 2.424892 млрд. рубл\n",
    "\n",
    "Все 3 Региона имеют достаточно хорошую прибыль по 200 скважинам.\n",
    "\n",
    "_В пятом шаге_: \n",
    "\n",
    "* **В регионе 2 (файл с исходными данными: 'geo_data_1.csv') вероятность убытков меньше 2.5%.**\n",
    "* Средняя прибыль в регионе 2 составляет более 450 млн рублей.\n",
    "* Для региона 2 95%-й доверительный интервал не содержит отрицательных значений.\n",
    "\n"
   ]
  },
  {
   "cell_type": "markdown",
   "metadata": {},
   "source": [
    "Поставьте 'x' в выполненных пунктах. Далее нажмите Shift+Enter."
   ]
  },
  {
   "cell_type": "markdown",
   "metadata": {},
   "source": [
    "- [x]  Jupyter Notebook открыт\n",
    "- [x]  Весь код выполняется без ошибок\n",
    "- [x]  Ячейки с кодом расположены в порядке исполнения\n",
    "- [x]  Выполнен шаг 1: данные подготовлены\n",
    "- [x]  Выполнен шаг 2: модели обучены и проверены\n",
    "    - [x]  Данные корректно разбиты на обучающую и валидационную выборки\n",
    "    - [x]  Модели обучены, предсказания сделаны\n",
    "    - [x]  Предсказания и правильные ответы на валидационной выборке сохранены\n",
    "    - [x]  На экране напечатаны результаты\n",
    "    - [x]  Сделаны выводы\n",
    "- [x]  Выполнен шаг 3: проведена подготовка к расчёту прибыли\n",
    "    - [x]  Для всех ключевых значений созданы константы Python\n",
    "    - [x]  Посчитано минимальное среднее количество продукта в месторождениях региона, достаточное для разработки\n",
    "    - [x]  По предыдущему пункту сделаны выводы\n",
    "    - [x]  Написана функция расчёта прибыли\n",
    "- [x]  Выполнен шаг 4: посчитаны риски и прибыль\n",
    "    - [x]  Проведена процедура *Bootstrap*\n",
    "    - [x]  Все параметры бутстрепа соответствуют условию\n",
    "    - [x]  Найдены все нужные величины\n",
    "    - [x]  Предложен регион для разработки месторождения\n",
    "    - [x]  Выбор региона обоснован"
   ]
  },
  {
   "cell_type": "code",
   "execution_count": null,
   "metadata": {},
   "outputs": [],
   "source": []
  }
 ],
 "metadata": {
  "ExecuteTimeLog": [
   {
    "duration": 108,
    "start_time": "2025-02-05T06:21:20.626Z"
   },
   {
    "duration": 45,
    "start_time": "2025-02-05T07:15:40.936Z"
   },
   {
    "duration": 1647,
    "start_time": "2025-02-05T07:15:49.502Z"
   },
   {
    "duration": 6,
    "start_time": "2025-02-05T07:15:51.151Z"
   },
   {
    "duration": 397,
    "start_time": "2025-02-05T07:15:51.158Z"
   },
   {
    "duration": 3,
    "start_time": "2025-02-05T07:15:51.558Z"
   },
   {
    "duration": 35,
    "start_time": "2025-02-05T07:15:51.563Z"
   },
   {
    "duration": 23,
    "start_time": "2025-02-05T07:15:51.600Z"
   },
   {
    "duration": 22,
    "start_time": "2025-02-05T07:15:51.672Z"
   },
   {
    "duration": 124,
    "start_time": "2025-02-05T07:15:52.199Z"
   },
   {
    "duration": 46,
    "start_time": "2025-02-05T07:15:52.383Z"
   },
   {
    "duration": 43,
    "start_time": "2025-02-05T07:15:52.573Z"
   },
   {
    "duration": 45,
    "start_time": "2025-02-05T07:15:52.768Z"
   },
   {
    "duration": 57,
    "start_time": "2025-02-05T07:15:54.087Z"
   },
   {
    "duration": 73,
    "start_time": "2025-02-05T07:15:54.779Z"
   },
   {
    "duration": 4,
    "start_time": "2025-02-05T07:15:55.147Z"
   },
   {
    "duration": 146,
    "start_time": "2025-02-05T07:15:55.512Z"
   },
   {
    "duration": 36,
    "start_time": "2025-02-05T07:15:55.968Z"
   },
   {
    "duration": 41,
    "start_time": "2025-02-05T07:15:56.170Z"
   },
   {
    "duration": 37,
    "start_time": "2025-02-05T07:15:56.387Z"
   },
   {
    "duration": 1068,
    "start_time": "2025-02-05T07:15:56.983Z"
   },
   {
    "duration": 4,
    "start_time": "2025-02-05T07:15:58.582Z"
   },
   {
    "duration": 3,
    "start_time": "2025-02-05T07:15:59.222Z"
   },
   {
    "duration": 80,
    "start_time": "2025-02-05T07:15:59.670Z"
   },
   {
    "duration": 1087,
    "start_time": "2025-02-05T07:16:00.111Z"
   },
   {
    "duration": 8,
    "start_time": "2025-02-05T07:16:04.362Z"
   },
   {
    "duration": 522,
    "start_time": "2025-02-05T07:16:05.080Z"
   },
   {
    "duration": 78,
    "start_time": "2025-02-05T07:25:34.586Z"
   },
   {
    "duration": 3,
    "start_time": "2025-02-05T07:25:39.768Z"
   },
   {
    "duration": 3,
    "start_time": "2025-02-05T07:25:40.869Z"
   },
   {
    "duration": 13,
    "start_time": "2025-02-05T07:25:50.058Z"
   },
   {
    "duration": 1506,
    "start_time": "2025-02-05T07:25:57.617Z"
   },
   {
    "duration": 4,
    "start_time": "2025-02-05T07:25:59.125Z"
   },
   {
    "duration": 404,
    "start_time": "2025-02-05T07:25:59.130Z"
   },
   {
    "duration": 3,
    "start_time": "2025-02-05T07:25:59.536Z"
   },
   {
    "duration": 34,
    "start_time": "2025-02-05T07:25:59.542Z"
   },
   {
    "duration": 19,
    "start_time": "2025-02-05T07:25:59.578Z"
   },
   {
    "duration": 21,
    "start_time": "2025-02-05T07:25:59.599Z"
   },
   {
    "duration": 174,
    "start_time": "2025-02-05T07:25:59.623Z"
   },
   {
    "duration": 45,
    "start_time": "2025-02-05T07:25:59.798Z"
   },
   {
    "duration": 51,
    "start_time": "2025-02-05T07:25:59.845Z"
   },
   {
    "duration": 61,
    "start_time": "2025-02-05T07:25:59.897Z"
   },
   {
    "duration": 56,
    "start_time": "2025-02-05T07:25:59.960Z"
   },
   {
    "duration": 90,
    "start_time": "2025-02-05T07:26:00.018Z"
   },
   {
    "duration": 3,
    "start_time": "2025-02-05T07:26:00.111Z"
   },
   {
    "duration": 175,
    "start_time": "2025-02-05T07:26:00.116Z"
   },
   {
    "duration": 36,
    "start_time": "2025-02-05T07:26:00.292Z"
   },
   {
    "duration": 57,
    "start_time": "2025-02-05T07:26:00.330Z"
   },
   {
    "duration": 35,
    "start_time": "2025-02-05T07:26:00.388Z"
   },
   {
    "duration": 1149,
    "start_time": "2025-02-05T07:26:00.425Z"
   },
   {
    "duration": 6,
    "start_time": "2025-02-05T07:26:01.576Z"
   },
   {
    "duration": 3,
    "start_time": "2025-02-05T07:26:01.584Z"
   },
   {
    "duration": 126,
    "start_time": "2025-02-05T07:26:01.589Z"
   },
   {
    "duration": 1122,
    "start_time": "2025-02-05T07:26:01.718Z"
   },
   {
    "duration": 16,
    "start_time": "2025-02-05T07:26:02.842Z"
   },
   {
    "duration": 500,
    "start_time": "2025-02-05T07:26:02.860Z"
   },
   {
    "duration": 1483,
    "start_time": "2025-02-05T07:26:03.362Z"
   },
   {
    "duration": 12,
    "start_time": "2025-02-05T07:26:04.847Z"
   },
   {
    "duration": 13,
    "start_time": "2025-02-05T07:26:04.860Z"
   },
   {
    "duration": 6,
    "start_time": "2025-02-05T07:26:04.875Z"
   },
   {
    "duration": 387,
    "start_time": "2025-02-05T07:26:04.883Z"
   },
   {
    "duration": 260,
    "start_time": "2025-02-05T07:26:05.272Z"
   },
   {
    "duration": 3,
    "start_time": "2025-02-05T07:26:05.534Z"
   },
   {
    "duration": 20,
    "start_time": "2025-02-05T07:26:05.538Z"
   },
   {
    "duration": 31,
    "start_time": "2025-02-05T07:26:05.560Z"
   },
   {
    "duration": 141,
    "start_time": "2025-02-05T07:26:05.593Z"
   },
   {
    "duration": 0,
    "start_time": "2025-02-05T07:26:05.736Z"
   },
   {
    "duration": 0,
    "start_time": "2025-02-05T07:26:05.737Z"
   },
   {
    "duration": 0,
    "start_time": "2025-02-05T07:26:05.738Z"
   },
   {
    "duration": 0,
    "start_time": "2025-02-05T07:26:05.739Z"
   },
   {
    "duration": 39,
    "start_time": "2025-02-05T07:27:23.753Z"
   },
   {
    "duration": 8,
    "start_time": "2025-02-05T07:28:16.474Z"
   },
   {
    "duration": 4,
    "start_time": "2025-02-05T07:28:18.119Z"
   },
   {
    "duration": 36,
    "start_time": "2025-02-05T07:28:22.822Z"
   },
   {
    "duration": 3270,
    "start_time": "2025-02-05T07:28:42.352Z"
   },
   {
    "duration": 113,
    "start_time": "2025-02-05T07:29:11.932Z"
   },
   {
    "duration": 110,
    "start_time": "2025-02-05T07:29:42.879Z"
   },
   {
    "duration": 506,
    "start_time": "2025-02-05T07:30:19.871Z"
   }
  ],
  "kernelspec": {
   "display_name": "Python 3 (ipykernel)",
   "language": "python",
   "name": "python3"
  },
  "language_info": {
   "codemirror_mode": {
    "name": "ipython",
    "version": 3
   },
   "file_extension": ".py",
   "mimetype": "text/x-python",
   "name": "python",
   "nbconvert_exporter": "python",
   "pygments_lexer": "ipython3",
   "version": "3.9.21"
  },
  "toc": {
   "base_numbering": 1,
   "nav_menu": {},
   "number_sections": true,
   "sideBar": true,
   "skip_h1_title": true,
   "title_cell": "Table of Contents",
   "title_sidebar": "Contents",
   "toc_cell": false,
   "toc_position": {},
   "toc_section_display": true,
   "toc_window_display": false
  }
 },
 "nbformat": 4,
 "nbformat_minor": 2
}
